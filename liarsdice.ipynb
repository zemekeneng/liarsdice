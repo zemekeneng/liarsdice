{
 "metadata": {
  "name": "",
  "signature": "sha256:64bd05012a46ca2768158e164bd3c71a4ce898a60bb74739c1aa8bd2d25136f7"
 },
 "nbformat": 3,
 "nbformat_minor": 0,
 "worksheets": [
  {
   "cells": [
    {
     "cell_type": "code",
     "collapsed": false,
     "input": [
      "import operator as op\n",
      "def roll_odds(faces, unknown_dice):\n",
      "    \"\"\"odds of roll of ''faces'' dice out of ''unknown_dice'' dice\"\"\"\n",
      "    if faces > unknown_dice:\n",
      "        return 0.0\n",
      "    return nCr(unknown_dice, faces) * (1.0/6)**(faces) * (5.0/6)**(unknown_dice - faces)\n",
      "def nCr(n, r):\n",
      "    \"\"\"Combinatorial: Evaluate n, choose r\"\"\"\n",
      "\n",
      "    r = min(r, n-r)\n",
      "    if r == 0: return 1\n",
      "    numer = reduce(op.mul, xrange(n, n-r, -1))\n",
      "    denom = reduce(op.mul, xrange(1, r+1))\n",
      "    return float(numer//denom)\n",
      "def gte_roll_odds(faces, unknown_dice):\n",
      "    return float(sum([roll_odds(x, unknown_dice) for x in range(faces, unknown_dice+1)]))"
     ],
     "language": "python",
     "metadata": {},
     "outputs": [],
     "prompt_number": 6
    },
    {
     "cell_type": "code",
     "collapsed": false,
     "input": [
      "nCr(3,2)"
     ],
     "language": "python",
     "metadata": {},
     "outputs": [
      {
       "metadata": {},
       "output_type": "pyout",
       "prompt_number": 7,
       "text": [
        "3.0"
       ]
      }
     ],
     "prompt_number": 7
    },
    {
     "cell_type": "code",
     "collapsed": false,
     "input": [
      "def roll_odds(faces, unknown_dice):\n",
      "    \"\"\"odds of roll of ''faces'' dice out of ''unknown_dice'' dice\"\"\"\n",
      "    if faces > unknown_dice:\n",
      "        return 0.0\n",
      "    return nCr(unknown_dice, faces) * (1.0/6)**(faces) * (5.0/6)**(unknown_dice - faces)"
     ],
     "language": "python",
     "metadata": {},
     "outputs": [],
     "prompt_number": 8
    },
    {
     "cell_type": "code",
     "collapsed": false,
     "input": [
      "roll_odds(1,1)"
     ],
     "language": "python",
     "metadata": {},
     "outputs": [
      {
       "metadata": {},
       "output_type": "pyout",
       "prompt_number": 9,
       "text": [
        "0.16666666666666666"
       ]
      }
     ],
     "prompt_number": 9
    },
    {
     "cell_type": "code",
     "collapsed": false,
     "input": [
      "def gte_roll_odds(faces, unknown_dice):\n",
      "    return float(sum([roll_odds(x, unknown_dice) for x in range(faces, unknown_dice+1)]))"
     ],
     "language": "python",
     "metadata": {},
     "outputs": [],
     "prompt_number": 10
    },
    {
     "cell_type": "code",
     "collapsed": false,
     "input": [
      "gte_roll_odds(1,3)"
     ],
     "language": "python",
     "metadata": {},
     "outputs": [
      {
       "metadata": {},
       "output_type": "pyout",
       "prompt_number": 11,
       "text": [
        "0.4212962962962964"
       ]
      }
     ],
     "prompt_number": 11
    },
    {
     "cell_type": "code",
     "collapsed": false,
     "input": [
      "import itertools\n",
      "prob = [1.0/6, 1.0/6, 1.0/6, 1.0/6]\n",
      "a = [1 for x in prob]"
     ],
     "language": "python",
     "metadata": {},
     "outputs": [],
     "prompt_number": 12
    },
    {
     "cell_type": "code",
     "collapsed": false,
     "input": [
      "b = [[x,1-x] for x in a]\n",
      "prob_b = [[x,1-x] for x in prob]"
     ],
     "language": "python",
     "metadata": {},
     "outputs": [],
     "prompt_number": 4
    },
    {
     "cell_type": "code",
     "collapsed": false,
     "input": [
      "combinations = [sum(x) for x in list(itertools.product(*b))]\n",
      "print combinations\n",
      "probabilities = [reduce(op.mul,x) for x in list(itertools.product(*prob_b))]\n",
      "print probabilities\n",
      "comb_prob = zip(combinations, probabilities)\n",
      "print comb_prob"
     ],
     "language": "python",
     "metadata": {},
     "outputs": [
      {
       "output_type": "stream",
       "stream": "stdout",
       "text": [
        "[4, 3, 3, 2, 3, 2, 2, 1, 3, 2, 2, 1, 2, 1, 1, 0]\n"
       ]
      },
      {
       "ename": "NameError",
       "evalue": "name 'op' is not defined",
       "output_type": "pyerr",
       "traceback": [
        "\u001b[1;31m---------------------------------------------------------------------------\u001b[0m\n\u001b[1;31mNameError\u001b[0m                                 Traceback (most recent call last)",
        "\u001b[1;32m<ipython-input-5-82061059e7de>\u001b[0m in \u001b[0;36m<module>\u001b[1;34m()\u001b[0m\n\u001b[0;32m      1\u001b[0m \u001b[0mcombinations\u001b[0m \u001b[1;33m=\u001b[0m \u001b[1;33m[\u001b[0m\u001b[0msum\u001b[0m\u001b[1;33m(\u001b[0m\u001b[0mx\u001b[0m\u001b[1;33m)\u001b[0m \u001b[1;32mfor\u001b[0m \u001b[0mx\u001b[0m \u001b[1;32min\u001b[0m \u001b[0mlist\u001b[0m\u001b[1;33m(\u001b[0m\u001b[0mitertools\u001b[0m\u001b[1;33m.\u001b[0m\u001b[0mproduct\u001b[0m\u001b[1;33m(\u001b[0m\u001b[1;33m*\u001b[0m\u001b[0mb\u001b[0m\u001b[1;33m)\u001b[0m\u001b[1;33m)\u001b[0m\u001b[1;33m]\u001b[0m\u001b[1;33m\u001b[0m\u001b[0m\n\u001b[0;32m      2\u001b[0m \u001b[1;32mprint\u001b[0m \u001b[0mcombinations\u001b[0m\u001b[1;33m\u001b[0m\u001b[0m\n\u001b[1;32m----> 3\u001b[1;33m \u001b[0mprobabilities\u001b[0m \u001b[1;33m=\u001b[0m \u001b[1;33m[\u001b[0m\u001b[0mreduce\u001b[0m\u001b[1;33m(\u001b[0m\u001b[0mop\u001b[0m\u001b[1;33m.\u001b[0m\u001b[0mmul\u001b[0m\u001b[1;33m,\u001b[0m\u001b[0mx\u001b[0m\u001b[1;33m)\u001b[0m \u001b[1;32mfor\u001b[0m \u001b[0mx\u001b[0m \u001b[1;32min\u001b[0m \u001b[0mlist\u001b[0m\u001b[1;33m(\u001b[0m\u001b[0mitertools\u001b[0m\u001b[1;33m.\u001b[0m\u001b[0mproduct\u001b[0m\u001b[1;33m(\u001b[0m\u001b[1;33m*\u001b[0m\u001b[0mprob_b\u001b[0m\u001b[1;33m)\u001b[0m\u001b[1;33m)\u001b[0m\u001b[1;33m]\u001b[0m\u001b[1;33m\u001b[0m\u001b[0m\n\u001b[0m\u001b[0;32m      4\u001b[0m \u001b[1;32mprint\u001b[0m \u001b[0mprobabilities\u001b[0m\u001b[1;33m\u001b[0m\u001b[0m\n\u001b[0;32m      5\u001b[0m \u001b[0mcomb_prob\u001b[0m \u001b[1;33m=\u001b[0m \u001b[0mzip\u001b[0m\u001b[1;33m(\u001b[0m\u001b[0mcombinations\u001b[0m\u001b[1;33m,\u001b[0m \u001b[0mprobabilities\u001b[0m\u001b[1;33m)\u001b[0m\u001b[1;33m\u001b[0m\u001b[0m\n",
        "\u001b[1;31mNameError\u001b[0m: name 'op' is not defined"
       ]
      }
     ],
     "prompt_number": 5
    },
    {
     "cell_type": "code",
     "collapsed": false,
     "input": [
      "values = range(len(prob)+1)"
     ],
     "language": "python",
     "metadata": {},
     "outputs": [],
     "prompt_number": 195
    },
    {
     "cell_type": "code",
     "collapsed": false,
     "input": [
      "gte_prob = dict([(y, sum([x[1] for x in comb_prob if x[0] >= y])) for y in values])"
     ],
     "language": "python",
     "metadata": {},
     "outputs": [],
     "prompt_number": 374
    },
    {
     "cell_type": "code",
     "collapsed": false,
     "input": [
      "gte_prob"
     ],
     "language": "python",
     "metadata": {},
     "outputs": [
      {
       "metadata": {},
       "output_type": "pyout",
       "prompt_number": 372,
       "text": [
        "{0: 1.0000000000000002,\n",
        " 1: 0.517746913580247,\n",
        " 2: 0.13194444444444448,\n",
        " 3: 0.016203703703703703,\n",
        " 4: 0.0007716049382716049}"
       ]
      }
     ],
     "prompt_number": 372
    },
    {
     "cell_type": "code",
     "collapsed": false,
     "input": [
      "def prob_of_comb(prob):\n",
      "    result_set = [[1,0] for x in prob]\n",
      "    prob_set = [[x,1-x] for x in prob]\n",
      "    combinations = [sum(x) for x in list(itertools.product(*result_set))]\n",
      "    probabilities = [reduce(op.mul,x) for x in list(itertools.product(*prob_set))]\n",
      "    comb_prob = zip(combinations, probabilities)\n",
      "    values = range(1,len(prob)+1)\n",
      "    return dict([(y, sum([x[1] for x in comb_prob if x[0] >= y])) for y in values])"
     ],
     "language": "python",
     "metadata": {},
     "outputs": [],
     "prompt_number": 375
    },
    {
     "cell_type": "code",
     "collapsed": false,
     "input": [
      "prob_of_comb([1.0/6, 1.0/6, 1.0/6])"
     ],
     "language": "python",
     "metadata": {},
     "outputs": [
      {
       "metadata": {},
       "output_type": "pyout",
       "prompt_number": 376,
       "text": [
        "{1: 0.42129629629629634, 2: 0.07407407407407407, 3: 0.004629629629629629}"
       ]
      }
     ],
     "prompt_number": 376
    },
    {
     "cell_type": "code",
     "collapsed": false,
     "input": [
      "class dice(object):\n",
      "    def __init__(self, dice_count, sides=6):\n",
      "        self.dice_count = dice_count\n",
      "        self.die_to_update = 0\n",
      "        self.sides = sides\n",
      "        self.probs = {s+1: [1.0/sides for n in range(dice_count)] for s in range(sides)}\n",
      "    def update(self):\n",
      "        if self.die_to_update < self.dice_count - 1:\n",
      "            self.die_to_update += 1\n",
      "        else:\n",
      "            self.die_to_update = 0\n",
      "            \n",
      "    def update_probs(self, face, b_a=0.3, b=1.0/6):\n",
      "        self.probs[face][self.die_to_update] = b_a * self.probs[face][self.die_to_update] / b\n",
      "        other_faces = range(1,self.sides +1)\n",
      "        other_faces.remove(face)\n",
      "        for other_face in other_faces:\n",
      "            self.probs[other_face][self.die_to_update] = self.probs[other_face][self.die_to_update]*\\\n",
      "                                                            self.sides/(self.sides-1)*\\\n",
      "                                                        (1 - self.probs[face][self.die_to_update])\n",
      "        self.update()\n",
      "    def face_probs(self):\n",
      "        face_probs = {}\n",
      "        for face in self.probs:\n",
      "            face_probs[face] = prob_of_comb(self.probs[face])\n",
      "        return face_probs\n",
      "            "
     ],
     "language": "python",
     "metadata": {},
     "outputs": [],
     "prompt_number": 388
    },
    {
     "cell_type": "code",
     "collapsed": false,
     "input": [
      "d = dice(3, 6)"
     ],
     "language": "python",
     "metadata": {},
     "outputs": [],
     "prompt_number": 389
    },
    {
     "cell_type": "code",
     "collapsed": false,
     "input": [
      "d.probs"
     ],
     "language": "python",
     "metadata": {},
     "outputs": [
      {
       "metadata": {},
       "output_type": "pyout",
       "prompt_number": 390,
       "text": [
        "{1: [0.16666666666666666, 0.16666666666666666, 0.16666666666666666],\n",
        " 2: [0.16666666666666666, 0.16666666666666666, 0.16666666666666666],\n",
        " 3: [0.16666666666666666, 0.16666666666666666, 0.16666666666666666],\n",
        " 4: [0.16666666666666666, 0.16666666666666666, 0.16666666666666666],\n",
        " 5: [0.16666666666666666, 0.16666666666666666, 0.16666666666666666],\n",
        " 6: [0.16666666666666666, 0.16666666666666666, 0.16666666666666666]}"
       ]
      }
     ],
     "prompt_number": 390
    },
    {
     "cell_type": "code",
     "collapsed": false,
     "input": [
      "d.update_probs(5)"
     ],
     "language": "python",
     "metadata": {},
     "outputs": [],
     "prompt_number": 385
    },
    {
     "cell_type": "code",
     "collapsed": false,
     "input": [
      "d.probs"
     ],
     "language": "python",
     "metadata": {},
     "outputs": [
      {
       "metadata": {},
       "output_type": "pyout",
       "prompt_number": 391,
       "text": [
        "{1: [0.16666666666666666, 0.16666666666666666, 0.16666666666666666],\n",
        " 2: [0.16666666666666666, 0.16666666666666666, 0.16666666666666666],\n",
        " 3: [0.16666666666666666, 0.16666666666666666, 0.16666666666666666],\n",
        " 4: [0.16666666666666666, 0.16666666666666666, 0.16666666666666666],\n",
        " 5: [0.16666666666666666, 0.16666666666666666, 0.16666666666666666],\n",
        " 6: [0.16666666666666666, 0.16666666666666666, 0.16666666666666666]}"
       ]
      }
     ],
     "prompt_number": 391
    },
    {
     "cell_type": "code",
     "collapsed": false,
     "input": [
      "d.face_probs()"
     ],
     "language": "python",
     "metadata": {},
     "outputs": [
      {
       "metadata": {},
       "output_type": "pyout",
       "prompt_number": 392,
       "text": [
        "{1: {1: 0.42129629629629634, 2: 0.07407407407407407, 3: 0.004629629629629629},\n",
        " 2: {1: 0.42129629629629634, 2: 0.07407407407407407, 3: 0.004629629629629629},\n",
        " 3: {1: 0.42129629629629634, 2: 0.07407407407407407, 3: 0.004629629629629629},\n",
        " 4: {1: 0.42129629629629634, 2: 0.07407407407407407, 3: 0.004629629629629629},\n",
        " 5: {1: 0.42129629629629634, 2: 0.07407407407407407, 3: 0.004629629629629629},\n",
        " 6: {1: 0.42129629629629634, 2: 0.07407407407407407, 3: 0.004629629629629629}}"
       ]
      }
     ],
     "prompt_number": 392
    },
    {
     "cell_type": "code",
     "collapsed": false,
     "input": [],
     "language": "python",
     "metadata": {},
     "outputs": []
    }
   ],
   "metadata": {}
  }
 ]
}