{
 "metadata": {
  "name": "",
  "signature": "sha256:109eb3fa32dae4ba3249aa9ecd15e5307fa6fa11efb331ccaa29cea643048a2c"
 },
 "nbformat": 3,
 "nbformat_minor": 0,
 "worksheets": []
}